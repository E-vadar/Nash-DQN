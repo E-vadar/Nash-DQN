{
 "cells": [
  {
   "cell_type": "code",
   "execution_count": 1,
   "metadata": {
    "scrolled": true
   },
   "outputs": [
    {
     "output_type": "stream",
     "name": "stdout",
     "text": [
      "New Simulation: 0 \n State(t=15.0, p=11.463073, i=0.6031415139245291, q=array([-29.4389, -34.3737, -23.9221,   6.1373, -22.4547]))\n"
     ]
    },
    {
     "output_type": "error",
     "ename": "TypeError",
     "evalue": "unsupported operand type(s) for +: 'numpy.ndarray' and 'Tensor'",
     "traceback": [
      "\u001b[0;31m---------------------------------------------------------------------------\u001b[0m",
      "\u001b[0;31mTypeError\u001b[0m                                 Traceback (most recent call last)",
      "\u001b[0;32m<ipython-input-1-8a6cc26afd89>\u001b[0m in \u001b[0;36m<module>\u001b[0;34m\u001b[0m\n\u001b[1;32m      6\u001b[0m \u001b[0;31m#AN_file_name: file name to output action network parameters to (defult is \"Action_Net\")\u001b[0m\u001b[0;34m\u001b[0m\u001b[0;34m\u001b[0m\u001b[0;34m\u001b[0m\u001b[0m\n\u001b[1;32m      7\u001b[0m \u001b[0;31m#VN_file_name: file name to output value network parameters to (default is \"Value_Net\")\u001b[0m\u001b[0;34m\u001b[0m\u001b[0;34m\u001b[0m\u001b[0;34m\u001b[0m\u001b[0m\n\u001b[0;32m----> 8\u001b[0;31m \u001b[0mrun_Nash_Agent\u001b[0m\u001b[0;34m(\u001b[0m\u001b[0mnum_sim\u001b[0m \u001b[0;34m=\u001b[0m \u001b[0;36m15000\u001b[0m\u001b[0;34m,\u001b[0m \u001b[0mAN_file_name\u001b[0m \u001b[0;34m=\u001b[0m \u001b[0;34m\"Action_Net\"\u001b[0m\u001b[0;34m)\u001b[0m\u001b[0;34m\u001b[0m\u001b[0;34m\u001b[0m\u001b[0m\n\u001b[0m",
      "\u001b[0;32m~/Documents/GitHub/Nash-DQN/Nash DQN - Final/NashRL.py\u001b[0m in \u001b[0;36mrun_Nash_Agent\u001b[0;34m(num_sim, batch_update_size, buffersize, AN_file_name, VN_file_name)\u001b[0m\n\u001b[1;32m    122\u001b[0m \u001b[0;34m\u001b[0m\u001b[0m\n\u001b[1;32m    123\u001b[0m             \u001b[0;31m# Computes action loss and updates Action network\u001b[0m\u001b[0;34m\u001b[0m\u001b[0;34m\u001b[0m\u001b[0;34m\u001b[0m\u001b[0m\n\u001b[0;32m--> 124\u001b[0;31m             \u001b[0mloss\u001b[0m \u001b[0;34m=\u001b[0m \u001b[0mnash_agent\u001b[0m\u001b[0;34m.\u001b[0m\u001b[0mcompute_action_Loss\u001b[0m\u001b[0;34m(\u001b[0m\u001b[0mreplay_sample\u001b[0m\u001b[0;34m)\u001b[0m\u001b[0;34m\u001b[0m\u001b[0;34m\u001b[0m\u001b[0m\n\u001b[0m\u001b[1;32m    125\u001b[0m             \u001b[0mnash_agent\u001b[0m\u001b[0;34m.\u001b[0m\u001b[0moptimizer_DQN\u001b[0m\u001b[0;34m.\u001b[0m\u001b[0mzero_grad\u001b[0m\u001b[0;34m(\u001b[0m\u001b[0;34m)\u001b[0m\u001b[0;34m\u001b[0m\u001b[0;34m\u001b[0m\u001b[0m\n\u001b[1;32m    126\u001b[0m             \u001b[0mloss\u001b[0m\u001b[0;34m.\u001b[0m\u001b[0mbackward\u001b[0m\u001b[0;34m(\u001b[0m\u001b[0;34m)\u001b[0m\u001b[0;34m\u001b[0m\u001b[0;34m\u001b[0m\u001b[0m\n",
      "\u001b[0;32m~/Documents/GitHub/Nash-DQN/Nash DQN - Final/NashAgent_lib.py\u001b[0m in \u001b[0;36mcompute_action_Loss\u001b[0;34m(self, state_tuples)\u001b[0m\n\u001b[1;32m    225\u001b[0m                              + penalty*torch.var(c2_list.view(-1, self.num_players), 1).view(-1, 1).repeat(\n\u001b[1;32m    226\u001b[0m                 1, self.num_players).view(-1)\n\u001b[0;32m--> 227\u001b[0;31m                 + penalty*torch.var(c3_list.view(-1, self.num_players), 1).view(-1, 1).repeat(1, self.num_players).view(-1))\n\u001b[0m\u001b[1;32m    228\u001b[0m \u001b[0;34m\u001b[0m\u001b[0m\n\u001b[1;32m    229\u001b[0m \u001b[0;34m\u001b[0m\u001b[0m\n",
      "\u001b[0;31mTypeError\u001b[0m: unsupported operand type(s) for +: 'numpy.ndarray' and 'Tensor'"
     ]
    }
   ],
   "source": [
    "#Runs the algorthim with default parameters\n",
    "#from NashRL import run_Nash_Agent\n",
    "\n",
    "from NashRL import *\n",
    "#num_sim: number of simulations to run for\n",
    "#AN_file_name: file name to output action network parameters to (defult is \"Action_Net\")\n",
    "#VN_file_name: file name to output value network parameters to (default is \"Value_Net\")\n",
    "run_Nash_Agent(num_sim = 15000, AN_file_name = \"Action_Net\")"
   ]
  },
  {
   "cell_type": "code",
   "execution_count": null,
   "metadata": {},
   "outputs": [],
   "source": []
  }
 ],
 "metadata": {
  "kernelspec": {
   "name": "python3",
   "display_name": "Python 3.7.9 64-bit",
   "metadata": {
    "interpreter": {
     "hash": "f2ce5644695672f78647a51422a534aa7427aa6fe7e63f8d6667b468e33f9799"
    }
   }
  },
  "language_info": {
   "codemirror_mode": {
    "name": "ipython",
    "version": 3
   },
   "file_extension": ".py",
   "mimetype": "text/x-python",
   "name": "python",
   "nbconvert_exporter": "python",
   "pygments_lexer": "ipython3",
   "version": "3.7.9-final"
  }
 },
 "nbformat": 4,
 "nbformat_minor": 2
}